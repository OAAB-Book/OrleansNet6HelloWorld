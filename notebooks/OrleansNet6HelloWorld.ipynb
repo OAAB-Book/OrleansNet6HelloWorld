{
 "cells": [
  {
   "cell_type": "markdown",
   "metadata": {},
   "source": [
    "# .NET 6 Microsoft Orleans Hello World Demo\n",
    "\n",
    "You need to install [.NET 6 SDK](https://dotnet.microsoft.com/download/dotnet/6.0) and [PowerShell 7+](https://learn.microsoft.com/powershell/scripting/install/installing-powershell), and also install [Ployglot Notebooks VSCode extension](https://marketplace.visualstudio.com/items?itemName=ms-dotnettools.dotnet-interactive-vscode) for running this notebook."
   ]
  },
  {
   "cell_type": "markdown",
   "metadata": {},
   "source": [
    "First, we need to use PowerShell to build Orleans' Grain class library project:"
   ]
  },
  {
   "cell_type": "code",
   "execution_count": 2,
   "metadata": {
    "dotnet_interactive": {
     "language": "csharp"
    },
    "polyglot_notebook": {
     "kernelName": "csharp"
    }
   },
   "outputs": [
    {
     "name": "stdout",
     "output_type": "stream",
     "text": [
      "  Determining projects to restore...\n",
      "  All projects are up-to-date for restore.\n",
      "  HelloWorld.Interfaces.Hello -> G:\\OrleansNet6HelloWorld\\src\\Shared\\HelloWorld.Interfaces.Hello\\bin\\Debug\\netstandard2.0\\HelloWorld.Interfaces.Hello.dll\n",
      "  HelloWorld.Grains.Greeting -> G:\\OrleansNet6HelloWorld\\src\\Grains\\HelloWorld.Grains.Greeting\\bin\\Debug\\net6.0\\HelloWorld.Grains.Greeting.dll\n",
      "\n",
      "Build succeeded.\n",
      "    0 Warning(s)\n",
      "    0 Error(s)\n",
      "\n",
      "Time Elapsed 00:00:01.82\n",
      "\n",
      "Workload updates are available. Run `dotnet workload list` for more information.\n"
     ]
    }
   ],
   "source": [
    "#!pwsh\n",
    "dotnet build ../src/Grains/HelloWorld.Grains.Greeting/HelloWorld.Grains.Greeting.csproj --nologo --no-self-contained --verbosity minimal"
   ]
  },
  {
   "cell_type": "markdown",
   "metadata": {},
   "source": [
    "Then load just built Assembly file:"
   ]
  },
  {
   "cell_type": "code",
   "execution_count": 4,
   "metadata": {
    "dotnet_interactive": {
     "language": "csharp"
    },
    "polyglot_notebook": {
     "kernelName": "csharp"
    }
   },
   "outputs": [],
   "source": [
    "#r \"../src/Grains/HelloWorld.Grains.Greeting/bin/Debug/net6.0/HelloWorld.Grains.Greeting.dll\""
   ]
  },
  {
   "cell_type": "markdown",
   "metadata": {},
   "source": [
    "Install following Nueget packages:\n",
    "\n",
    "// base libraries for hosting an Orleans Host instance\n",
    "- [Microsoft.Extensions.Hosting](https://www.nuget.org/packages/Microsoft.Extensions.Hosting/6.0.1)\n",
    "- [Microsoft.Orleans.Server](https://www.nuget.org/packages/Microsoft.Orleans.Server/3.7.1)\n",
    "- [Microsoft.Orleans.OrleansCodeGenerator](https://www.nuget.org/packages/Microsoft.Orleans.OrleansCodeGenerator/3.7.1)\n",
    "\n",
    "// logging libraries to show messages on Jupyter Notebook\n",
    "- [Microsoft.Extensions.Logging.Abstractions](https://www.nuget.org/packages/Microsoft.Extensions.Logging.Abstractions/6.0.4)\n",
    "- [Microsoft.Extensions.Logging](https://www.nuget.org/packages/Microsoft.Extensions.Logging/6.0.0)\n",
    "- [Serilog.Extensions.Logging](https://www.nuget.org/packages/Serilog.Extensions.Logging/3.1.0)\n",
    "- [Serilog.Sinks.Console](https://www.nuget.org/packages/Serilog.Sinks.Console/4.1.0)\n",
    "\n",
    "(Note: since .NET Interactive Kernel is not a pure C# project, [we **cannot** use the Build time code generation packages](https://docs.microsoft.com/en-us/dotnet/orleans/grains/code-generation#what-happens-during-build) but instead install `Microsoft.Orleans.OrleansCodeGenerator` nuget that do code generation when both client & silo starting up)"
   ]
  },
  {
   "cell_type": "code",
   "execution_count": 1,
   "metadata": {
    "dotnet_interactive": {
     "language": "csharp"
    },
    "polyglot_notebook": {
     "kernelName": "csharp"
    }
   },
   "outputs": [
    {
     "data": {
      "text/html": [
       "<div><div></div><div></div><div><strong>Installed Packages</strong><ul><li><span>Microsoft.Extensions.Hosting, 6.0.1</span></li><li><span>Microsoft.Extensions.Logging, 6.0.0</span></li><li><span>Microsoft.Extensions.Logging.Abstractions, 6.0.4</span></li><li><span>Microsoft.Orleans.OrleansCodeGenerator, 3.7.1</span></li><li><span>Microsoft.Orleans.Server, 3.7.1</span></li><li><span>Serilog.Extensions.Logging, 3.1.0</span></li><li><span>Serilog.Sinks.Console, 4.1.0</span></li></ul></div></div>"
      ]
     },
     "metadata": {},
     "output_type": "display_data"
    }
   ],
   "source": [
    "// base libraries for hosting an Orleans Host instance\n",
    "#r \"nuget: Microsoft.Extensions.Hosting, 6.0.1\"\n",
    "#r \"nuget: Microsoft.Orleans.Server, 3.7.1\"\n",
    "#r \"nuget: Microsoft.Orleans.OrleansCodeGenerator, 3.7.1\"\n",
    "\n",
    "// logging libraries to show messages on Jupyter Notebook\n",
    "#r \"nuget: Microsoft.Extensions.Logging.Abstractions, 6.0.4\"\n",
    "#r \"nuget: Microsoft.Extensions.Logging, 6.0.0\"\n",
    "#r \"nuget: Serilog.Extensions.Logging, 3.1.0\"\n",
    "#r \"nuget: Serilog.Sinks.Console, 4.1.0\"\n"
   ]
  },
  {
   "cell_type": "markdown",
   "metadata": {},
   "source": [
    "Using some namespace to reduce clutter code and enable hosting extension methods:"
   ]
  },
  {
   "cell_type": "code",
   "execution_count": 6,
   "metadata": {
    "dotnet_interactive": {
     "language": "csharp"
    },
    "polyglot_notebook": {
     "kernelName": "csharp"
    }
   },
   "outputs": [],
   "source": [
    "// Orleans Silo\n",
    "using Microsoft.Extensions.Hosting;\n",
    "using Orleans;\n",
    "using Orleans.Hosting;\n",
    "using Orleans.Runtime;\n",
    "using Orleans.Configuration;\n",
    "\n",
    "using Microsoft.Extensions.Logging;\n",
    "using Serilog;\n",
    "\n",
    "//Our Orleans Grain & Interface\n",
    "using HelloWorld.Grains.Greeting;\n",
    "using HelloWorld.Interfaces.Hello;"
   ]
  },
  {
   "cell_type": "markdown",
   "metadata": {},
   "source": [
    "## Create Orleans Server (Silo Host)\n",
    "\n",
    "Create [HostBuilder](https://learn.microsoft.com/dotnet/api/microsoft.extensions.hosting.hostbuilder?view=net-6.0) and properly configure it using [`UseOrleans()` extension method](https://learn.microsoft.com/dotnet/api/microsoft.extensions.hosting.generichostextensions.useorleans?view=orleans-3.0):\n"
   ]
  },
  {
   "cell_type": "code",
   "execution_count": 11,
   "metadata": {
    "dotnet_interactive": {
     "language": "csharp"
    },
    "polyglot_notebook": {
     "kernelName": "csharp"
    }
   },
   "outputs": [],
   "source": [
    "Log.Logger = new LoggerConfiguration().WriteTo.Console().CreateLogger();\n",
    "var codeGenLoggerFactory = LoggerFactory.Create(logBuilder => logBuilder.AddSerilog());\n",
    "\n",
    "const string DemoClusterId = @\"demo-cluster\";\n",
    "const string DemoServiceId = @\"JuypterNotebook HelloWorld\";\n",
    "\n",
    "var hostBuilder = new HostBuilder()\n",
    "    .UseOrleans(siloBuilder =>\n",
    "    {\n",
    "        siloBuilder\n",
    "            .UseLocalhostClustering()\n",
    "            .Configure<ClusterOptions>(options =>\n",
    "            {\n",
    "                options.ClusterId = DemoClusterId;\n",
    "                options.ServiceId = DemoServiceId;\n",
    "            })\n",
    "            .ConfigureApplicationParts(parts => { \n",
    "                parts.AddApplicationPart(typeof(HelloGrain).Assembly).WithCodeGeneration(codeGenLoggerFactory);\n",
    "                parts.AddApplicationPart(typeof(IHelloGrain).Assembly).WithCodeGeneration(codeGenLoggerFactory);\n",
    "            });\n",
    "    });"
   ]
  },
  {
   "cell_type": "markdown",
   "metadata": {},
   "source": [
    "Create Silo Host instance via `hostBuilder`, and start it up:"
   ]
  },
  {
   "cell_type": "code",
   "execution_count": 12,
   "metadata": {
    "dotnet_interactive": {
     "language": "csharp"
    },
    "polyglot_notebook": {
     "kernelName": "csharp"
    }
   },
   "outputs": [
    {
     "name": "stdout",
     "output_type": "stream",
     "text": [
      "[20:50:42 INF] Generating code for assemblies: \n",
      "[20:50:42 INF] Runtime code generation for assemblies  HelloWorld.Grains.Greeting, Version=1.0.0.0, Culture=neutral, PublicKeyToken=null took 344 milliseconds\n",
      "[20:50:42 INF] Generating code for assemblies: \n",
      "[20:50:42 INF] Runtime code generation for assemblies  HelloWorld.Interfaces.Hello, Version=1.0.0.0, Culture=neutral, PublicKeyToken=null took 321 milliseconds\n"
     ]
    }
   ],
   "source": [
    "var host = hostBuilder.Build();\n",
    "host.Start();"
   ]
  },
  {
   "cell_type": "markdown",
   "metadata": {},
   "source": [
    "## Create Orleans Client and call Hello World RPC method\n",
    "\n",
    "Create [ClientBuilder](https://learn.microsoft.com/dotnet/api/orleans.clientbuilder?view=orleans-3.0) and configure it:"
   ]
  },
  {
   "cell_type": "code",
   "execution_count": 14,
   "metadata": {
    "dotnet_interactive": {
     "language": "csharp"
    },
    "polyglot_notebook": {
     "kernelName": "csharp"
    }
   },
   "outputs": [
    {
     "name": "stdout",
     "output_type": "stream",
     "text": [
      "[20:54:23 INF] Generating code for assemblies: \n",
      "[20:54:23 INF] Runtime code generation for assemblies  HelloWorld.Interfaces.Hello, Version=1.0.0.0, Culture=neutral, PublicKeyToken=null took 454 milliseconds\n"
     ]
    }
   ],
   "source": [
    "var clientBuilder = new ClientBuilder().UseLocalhostClustering()\n",
    "    .Configure<ClusterOptions>(options =>\n",
    "    {\n",
    "        options.ClusterId = DemoClusterId;\n",
    "        options.ServiceId = DemoServiceId;\n",
    "    })\n",
    "    .ConfigureApplicationParts(parts =>\n",
    "    {\n",
    "        // we only needs grain interface code gen on client side\n",
    "        parts.AddApplicationPart(typeof(IHelloGrain).Assembly).WithCodeGeneration(codeGenLoggerFactory);\n",
    "    });"
   ]
  },
  {
   "cell_type": "markdown",
   "metadata": {},
   "source": [
    "Create Orleans client via `clientBuilder`, and call [`Connect()` async method](https://learn.microsoft.com/dotnet/api/orleans.iclusterclient.connect?view=orleans-3.0) to connect to Silo Host, then get an Orleans grain client side RPC instance via a defined identifier(we use *0* here):"
   ]
  },
  {
   "cell_type": "code",
   "execution_count": 15,
   "metadata": {
    "dotnet_interactive": {
     "language": "csharp"
    },
    "polyglot_notebook": {
     "kernelName": "csharp"
    }
   },
   "outputs": [],
   "source": [
    "var client = clientBuilder.Build();\n",
    "await client.Connect();\n",
    "var demoGrain = client.GetGrain<IHelloGrain>(0);"
   ]
  },
  {
   "cell_type": "markdown",
   "metadata": {},
   "source": [
    "The `demoGrain` is the client grain RPC instance, call its `Task<string> SayHello(string greeting)` RPC method:"
   ]
  },
  {
   "cell_type": "code",
   "execution_count": 17,
   "metadata": {
    "dotnet_interactive": {
     "language": "csharp"
    },
    "polyglot_notebook": {
     "kernelName": "csharp"
    }
   },
   "outputs": [
    {
     "data": {
      "text/plain": [
       "RPC return is: \"You said: 'Hello Orleans', I say: Hello!\""
      ]
     },
     "metadata": {},
     "output_type": "display_data"
    }
   ],
   "source": [
    "var greeting = await demoGrain.SayHello(\"Hello Orleans\");\n",
    "display(\"RPC return is: \\\"\" + greeting + \"\\\"\");"
   ]
  },
  {
   "cell_type": "markdown",
   "metadata": {},
   "source": [
    "## Clean up\n",
    "\n",
    "First, close connection between Orleans Client and Silo Host by calling [`Close()` async method](https://learn.microsoft.com/dotnet/api/orleans.iclusterclient.close?view=orleans-3.0) on Client side:"
   ]
  },
  {
   "cell_type": "code",
   "execution_count": 18,
   "metadata": {
    "dotnet_interactive": {
     "language": "csharp"
    },
    "polyglot_notebook": {
     "kernelName": "csharp"
    }
   },
   "outputs": [],
   "source": [
    "await client.Close();"
   ]
  },
  {
   "cell_type": "markdown",
   "metadata": {},
   "source": [
    "Shutdown Silo Host:"
   ]
  },
  {
   "cell_type": "code",
   "execution_count": 19,
   "metadata": {
    "dotnet_interactive": {
     "language": "csharp"
    },
    "polyglot_notebook": {
     "kernelName": "csharp"
    }
   },
   "outputs": [],
   "source": [
    "await host.StopAsync();"
   ]
  }
 ],
 "metadata": {
  "kernelspec": {
   "display_name": ".NET (C#)",
   "language": "C#",
   "name": ".net-csharp"
  },
  "language_info": {
   "name": "polyglot-notebook"
  },
  "orig_nbformat": 4,
  "polyglot_notebook": {
   "kernelInfo": {
    "defaultKernelName": "csharp",
    "items": [
     {
      "aliases": [],
      "name": "csharp"
     }
    ]
   }
  }
 },
 "nbformat": 4,
 "nbformat_minor": 2
}
